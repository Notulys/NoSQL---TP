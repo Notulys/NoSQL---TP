{
 "cells": [
  {
   "cell_type": "code",
   "execution_count": 1,
   "metadata": {},
   "outputs": [
    {
     "data": {
      "text/plain": [
       "['admin', 'config', 'local', 'metflix']"
      ]
     },
     "execution_count": 1,
     "metadata": {},
     "output_type": "execute_result"
    }
   ],
   "source": [
    "from pymongo import MongoClient\n",
    "connexion = MongoClient()\n",
    "\n",
    "connexion.drop_database(\"metflix\")\n",
    "bdd = connexion.metflix\n",
    "movies = bdd.movies\n",
    "\n",
    "movies.insert_one({\"title\":\"Rocky\", \"year\":1976})\n",
    "movies.find_one()\n",
    "connexion.list_database_names()"
   ]
  },
  {
   "cell_type": "code",
   "execution_count": 2,
   "metadata": {},
   "outputs": [
    {
     "data": {
      "text/plain": [
       "['admin', 'config', 'local']"
      ]
     },
     "execution_count": 2,
     "metadata": {},
     "output_type": "execute_result"
    }
   ],
   "source": [
    "connexion.drop_database('metflix')\n",
    "connexion.list_database_names()"
   ]
  },
  {
   "cell_type": "code",
   "execution_count": 26,
   "metadata": {},
   "outputs": [
    {
     "name": "stdout",
     "output_type": "stream",
     "text": [
      "Erreur clé dupliquée\n"
     ]
    }
   ],
   "source": [
    "connexion = MongoClient()\n",
    "bdd = connexion.metflix\n",
    "users = bdd.users\n",
    "\n",
    "user = {\"nom\":\"Drav\", \"prenom\":\"Marie\"}\n",
    "\n",
    "try:\n",
    "    users.insert_one(user)\n",
    "    users.insert_one(user)\n",
    "    print(\"Good\")\n",
    "except DuplicateKeyError:\n",
    "    print(\"Erreur clé dupliquée\")\n",
    "\n"
   ]
  },
  {
   "cell_type": "code",
   "execution_count": 14,
   "metadata": {},
   "outputs": [
    {
     "name": "stdout",
     "output_type": "stream",
     "text": [
      "{'_id': 'tt0073195', 'title': 'Jaws', 'years': 1975}\n",
      "{'_id': 'tt0082694', 'title': 'Mad Max 2 : The Road Warrior', 'years': 1981}\n",
      "{'_id': 'tt0082971', 'title': 'Raiders of the Lost Ark', 'years': 1981}\n"
     ]
    }
   ],
   "source": [
    "bdd.users.drop()\n",
    "connexion.drop_database(\"metflix\")\n",
    "bdd = connexion.metflix\n",
    "movies = bdd.movies\n",
    "\n",
    "bdd.list_collection_names()\n",
    "movies.insert_many([\n",
    "    {\"title\": \"Rocky\", \"year\": 1976, \"_id\": \"tt0075148\"}, \n",
    "    {\"title\": \"Jaws\", \"year\": 1975, \"_id\": \"tt0073195\"},\n",
    "    {\"title\": \"Mad Max 2 : The Road Warrior\", \"year\": 1981, \"_id\": \"tt0082694\"},\n",
    "    {\"title\": \"Raiders of the Lost Ark\", \"year\": 1981, \"_id\": \"tt0082971\"},\n",
    "])\n",
    "\n",
    "#Affichage de tous les films\n",
    "allMovies = movies.find()\n",
    "for movie in allMovies:\n",
    "    print(movie)"
   ]
  },
  {
   "cell_type": "code",
   "execution_count": 23,
   "metadata": {},
   "outputs": [
    {
     "data": {
      "text/plain": [
       "{'_id': 'tt0075148', 'title': 'Rocky', 'year': 1976}"
      ]
     },
     "execution_count": 23,
     "metadata": {},
     "output_type": "execute_result"
    }
   ],
   "source": [
    "#Affichage du 1er film\n",
    "movies.find_one()"
   ]
  },
  {
   "cell_type": "code",
   "execution_count": 24,
   "metadata": {},
   "outputs": [
    {
     "name": "stdout",
     "output_type": "stream",
     "text": [
      "{'_id': 'tt0082694', 'title': 'Mad Max 2 : The Road Warrior', 'year': 1981}\n",
      "{'_id': 'tt0082971', 'title': 'Raiders of the Lost Ark', 'year': 1981}\n"
     ]
    }
   ],
   "source": [
    "#Affichage des films année = 1981\n",
    "movies1981 = movies.find({\"year\":1981})\n",
    "for movie in movies1981:\n",
    "    print(movie)"
   ]
  },
  {
   "cell_type": "code",
   "execution_count": 25,
   "metadata": {},
   "outputs": [
    {
     "data": {
      "text/plain": [
       "{'_id': 'tt0073195', 'title': 'Jaws', 'year': 1975}"
      ]
     },
     "execution_count": 25,
     "metadata": {},
     "output_type": "execute_result"
    }
   ],
   "source": [
    "#Affichage des films année = 1981\n",
    "movies.find_one({\"title\":\"Jaws\"})"
   ]
  }
 ],
 "metadata": {
  "kernelspec": {
   "display_name": "Python 3",
   "language": "python",
   "name": "python3"
  },
  "language_info": {
   "codemirror_mode": {
    "name": "ipython",
    "version": 3
   },
   "file_extension": ".py",
   "mimetype": "text/x-python",
   "name": "python",
   "nbconvert_exporter": "python",
   "pygments_lexer": "ipython3",
   "version": "3.8.6"
  }
 },
 "nbformat": 4,
 "nbformat_minor": 1
}
