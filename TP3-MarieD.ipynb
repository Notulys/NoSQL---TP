{
 "metadata": {
  "language_info": {
   "codemirror_mode": {
    "name": "ipython",
    "version": 3
   },
   "file_extension": ".py",
   "mimetype": "text/x-python",
   "name": "python",
   "nbconvert_exporter": "python",
   "pygments_lexer": "ipython3",
   "version": "3.6.12-final"
  },
  "orig_nbformat": 2,
  "kernelspec": {
   "name": "python3",
   "display_name": "Python 3",
   "language": "python"
  }
 },
 "nbformat": 4,
 "nbformat_minor": 2,
 "cells": [
  {
   "cell_type": "code",
   "execution_count": 7,
   "metadata": {},
   "outputs": [],
   "source": [
    "from pprint import pprint as pp\n",
    "import pymongo\n",
    "from pymongo import MongoClient\n",
    "import json"
   ]
  },
  {
   "cell_type": "code",
   "execution_count": 8,
   "metadata": {},
   "outputs": [],
   "source": [
    "client = MongoClient('localhost', 27017)\n",
    "db = client['restaurant']"
   ]
  },
  {
   "cell_type": "code",
   "execution_count": 11,
   "metadata": {
    "tags": []
   },
   "outputs": [
    {
     "output_type": "stream",
     "name": "stdout",
     "text": [
      "Success insertion\n"
     ]
    }
   ],
   "source": [
    "with open('./fichiersApprenants/transactions.json') as f:\n",
    "    if db['transactions']:\n",
    "        db['transactions'].drop()\n",
    "    transactions = json.load(f)\n",
    "    db.transactions.insert_many(transactions)\n",
    "print('Success insertion') "
   ]
  },
  {
   "cell_type": "code",
   "execution_count": 12,
   "metadata": {},
   "outputs": [
    {
     "output_type": "stream",
     "name": "stdout",
     "text": [
      "transactions\n"
     ]
    }
   ],
   "source": [
    "for collection in db.list_collection_names():\n",
    "    print(collection)"
   ]
  },
  {
   "source": [
    "db.transactions.find_one()"
   ],
   "cell_type": "code",
   "metadata": {},
   "execution_count": 14,
   "outputs": [
    {
     "output_type": "execute_result",
     "data": {
      "text/plain": [
       "{'_id': ObjectId('60103f19f8f41f88b0f0ee99'),\n",
       " 'Id': 100,\n",
       " 'Name': 'John',\n",
       " 'TransactionId': 'tran1',\n",
       " 'Panier': [{'ItemId': 'a100', 'price': 200},\n",
       "  {'ItemId': 'a110', 'price': 210}],\n",
       " 'Subscriber': True,\n",
       " 'Payment': {'Type': 'Credit-Card', 'Total': 410, 'Success': True},\n",
       " 'Note': '1st Complete Record'}"
      ]
     },
     "metadata": {},
     "execution_count": 14
    }
   ]
  },
  {
   "source": [
    "# Q : La répartition des restaurants par quartier ?"
   ],
   "cell_type": "markdown",
   "metadata": {}
  },
  {
   "cell_type": "code",
   "execution_count": 7,
   "metadata": {
    "tags": []
   },
   "outputs": [
    {
     "output_type": "stream",
     "name": "stdout",
     "text": [
      "{'_id': 'Staten Island', 'nb_restaurant': 969}\n{'_id': 'Manhattan', 'nb_restaurant': 10258}\n{'_id': 'Bronx', 'nb_restaurant': 2338}\n{'_id': 'Brooklyn', 'nb_restaurant': 6085}\n{'_id': 'Queens', 'nb_restaurant': 5656}\n{'_id': 'Missing', 'nb_restaurant': 51}\n"
     ]
    }
   ],
   "source": [
    "for el in db.restaurants.aggregate([{\"$group\": {\"_id\": \"$borough\", \"nb_restaurant\": { \"$sum\": 1 }}}]):\n",
    "    pp(el)"
   ]
  },
  {
   "source": [
    "# Q : La répartition des restaurants dont la dernière inspection a donné un grade \"C\" par quartier ?"
   ],
   "cell_type": "markdown",
   "metadata": {}
  },
  {
   "cell_type": "code",
   "execution_count": 26,
   "metadata": {},
   "outputs": [
    {
     "output_type": "stream",
     "name": "stdout",
     "text": [
      "{'_id': 'Brooklyn', 'nb_restaurant': 56}\n{'_id': 'Queens', 'nb_restaurant': 47}\n{'_id': 'Bronx', 'nb_restaurant': 27}\n{'_id': 'Staten Island', 'nb_restaurant': 7}\n{'_id': 'Manhattan', 'nb_restaurant': 83}\n"
     ]
    }
   ],
   "source": [
    "for el in db.restaurants.aggregate([{\"$match\": { \"grades.0.grade\": \"C\" } },{\"$group\": {\"_id\": \"$borough\", \"nb_restaurant\": { \"$sum\": 1 }}}]):\n",
    "    pp(el)"
   ]
  },
  {
   "source": [],
   "cell_type": "markdown",
   "metadata": {}
  },
  {
   "source": [
    "# Q : Calculer le score moyen des resto par quartier et trier par score décroissant ?"
   ],
   "cell_type": "markdown",
   "metadata": {}
  },
  {
   "cell_type": "code",
   "execution_count": 112,
   "metadata": {},
   "outputs": [
    {
     "output_type": "stream",
     "name": "stdout",
     "text": [
      "{'_id': 'Queens', 'moyenne': 11.634865110930088}\n{'_id': 'Brooklyn', 'moyenne': 11.447723132969035}\n{'_id': 'Manhattan', 'moyenne': 11.41823125728344}\n{'_id': 'Staten Island', 'moyenne': 11.370957711442786}\n{'_id': 'Bronx', 'moyenne': 11.036186099942562}\n{'_id': 'Missing', 'moyenne': 9.632911392405063}\n"
     ]
    }
   ],
   "source": [
    "for el in db.restaurants.aggregate([ {\"$unwind\": \"$grades\" }, {\"$group\": {\"_id\": \"$borough\", \"moyenne\": { \"$avg\": \"$grades.score\" } }}, {\"$sort\": {\"moyenne\": -1}}]):\n",
    "    pp(el)"
   ]
  },
  {
   "source": [
    "Q-1. Calculer le montant total des transactions ?"
   ],
   "cell_type": "markdown",
   "metadata": {}
  },
  {
   "cell_type": "code",
   "execution_count": 16,
   "metadata": {},
   "outputs": [
    {
     "output_type": "stream",
     "name": "stdout",
     "text": [
      "{'_id': 'Total', 'somme': 1640}\n"
     ]
    }
   ],
   "source": [
    "for doc in db.transactions.aggregate([ {\"$unwind\": \"$Panier\"}, {\"$group\": {\"_id\": \"Total\", \"somme\": { \"$sum\": \"$Panier.price\" } }}]):\n",
    "    pp(doc)"
   ]
  },
  {
   "source": [
    "Q-2. Calculer le montant total par transaction ?"
   ],
   "cell_type": "markdown",
   "metadata": {}
  },
  {
   "cell_type": "code",
   "execution_count": 118,
   "metadata": {},
   "outputs": [
    {
     "output_type": "stream",
     "name": "stdout",
     "text": [
      "{'_id': 'tran4', 'somme': 410}\n{'_id': 'tran1', 'somme': 410}\n{'_id': 'tran2', 'somme': 410}\n{'_id': 'tran3', 'somme': 410}\n"
     ]
    }
   ],
   "source": [
    "for el in db.transactions.aggregate([ {\"$unwind\": \"$Transaction\" }, {\"$group\": {\"_id\": \"$TransactionId\", \"somme\": { \"$sum\": \"$Transaction.price\" } }}]):\n",
    "    pp(el)"
   ]
  },
  {
   "source": [
    "Q-3. Calculate total payments (Payment.Total) for each payment type (Payment.Type) ?"
   ],
   "cell_type": "markdown",
   "metadata": {}
  },
  {
   "cell_type": "code",
   "execution_count": 124,
   "metadata": {},
   "outputs": [
    {
     "output_type": "stream",
     "name": "stdout",
     "text": [
      "{'_id': 'Debit-Card', 'somme': 410}\n{'_id': None, 'somme': 410}\n{'_id': 'Credit-Card', 'somme': 820}\n"
     ]
    }
   ],
   "source": [
    "for el in db.transactions.aggregate([ {\"$unwind\": \"$Transaction\" }, {\"$group\": {\"_id\": \"$Payment.Type\", \"somme\": { \"$sum\": \"$Transaction.price\" } }}]):\n",
    "    pp(el)"
   ]
  },
  {
   "source": [
    "Q-4. Trouver l'Id le plus élevé."
   ],
   "cell_type": "markdown",
   "metadata": {}
  },
  {
   "cell_type": "code",
   "execution_count": 138,
   "metadata": {},
   "outputs": [
    {
     "output_type": "stream",
     "name": "stdout",
     "text": [
      "{'Id': 103,\n 'Name': 'Dylan',\n 'Note': 'Payment is Null',\n 'Payment': None,\n 'Subscriber': True,\n 'Transaction': [{'ItemId': 'a100', 'price': 200},\n                 {'ItemId': 'a110', 'price': 210}],\n 'TransactionId': 'tran4',\n '_id': ObjectId('600eb8fd7263e84cff3fac2a')}\n"
     ]
    }
   ],
   "source": [
    "pp(db.transactions.find({}).sort(\"Id\", -1)[0])"
   ]
  },
  {
   "source": [
    "Q-5. Find the max price (Transaction.price) ?"
   ],
   "cell_type": "markdown",
   "metadata": {}
  },
  {
   "cell_type": "code",
   "execution_count": 123,
   "metadata": {},
   "outputs": [
    {
     "output_type": "error",
     "ename": "TypeError",
     "evalue": "filter must be an instance of dict, bson.son.SON, or any other type that inherits from collections.Mapping",
     "traceback": [
      "\u001b[1;31m---------------------------------------------------------------------------\u001b[0m",
      "\u001b[1;31mTypeError\u001b[0m                                 Traceback (most recent call last)",
      "\u001b[1;32m<ipython-input-123-1bf13743eb94>\u001b[0m in \u001b[0;36m<module>\u001b[1;34m\u001b[0m\n\u001b[1;32m----> 1\u001b[1;33m \u001b[0mpp\u001b[0m\u001b[1;33m(\u001b[0m\u001b[0mdb\u001b[0m\u001b[1;33m.\u001b[0m\u001b[0mtransactions\u001b[0m\u001b[1;33m.\u001b[0m\u001b[0mfind\u001b[0m\u001b[1;33m(\u001b[0m\u001b[1;33m{\u001b[0m\u001b[1;34m\"Transaction.price\"\u001b[0m\u001b[1;33m}\u001b[0m\u001b[1;33m)\u001b[0m\u001b[1;33m[\u001b[0m\u001b[1;36m0\u001b[0m\u001b[1;33m]\u001b[0m\u001b[1;33m)\u001b[0m\u001b[1;33m\u001b[0m\u001b[1;33m\u001b[0m\u001b[0m\n\u001b[0m",
      "\u001b[1;32m~\\Anaconda3\\envs\\NoSQL\\lib\\site-packages\\pymongo\\collection.py\u001b[0m in \u001b[0;36mfind\u001b[1;34m(self, *args, **kwargs)\u001b[0m\n\u001b[0;32m   1521\u001b[0m \u001b[1;33m\u001b[0m\u001b[0m\n\u001b[0;32m   1522\u001b[0m         \"\"\"\n\u001b[1;32m-> 1523\u001b[1;33m         \u001b[1;32mreturn\u001b[0m \u001b[0mCursor\u001b[0m\u001b[1;33m(\u001b[0m\u001b[0mself\u001b[0m\u001b[1;33m,\u001b[0m \u001b[1;33m*\u001b[0m\u001b[0margs\u001b[0m\u001b[1;33m,\u001b[0m \u001b[1;33m**\u001b[0m\u001b[0mkwargs\u001b[0m\u001b[1;33m)\u001b[0m\u001b[1;33m\u001b[0m\u001b[1;33m\u001b[0m\u001b[0m\n\u001b[0m\u001b[0;32m   1524\u001b[0m \u001b[1;33m\u001b[0m\u001b[0m\n\u001b[0;32m   1525\u001b[0m     \u001b[1;32mdef\u001b[0m \u001b[0mfind_raw_batches\u001b[0m\u001b[1;33m(\u001b[0m\u001b[0mself\u001b[0m\u001b[1;33m,\u001b[0m \u001b[1;33m*\u001b[0m\u001b[0margs\u001b[0m\u001b[1;33m,\u001b[0m \u001b[1;33m**\u001b[0m\u001b[0mkwargs\u001b[0m\u001b[1;33m)\u001b[0m\u001b[1;33m:\u001b[0m\u001b[1;33m\u001b[0m\u001b[1;33m\u001b[0m\u001b[0m\n",
      "\u001b[1;32m~\\Anaconda3\\envs\\NoSQL\\lib\\site-packages\\pymongo\\cursor.py\u001b[0m in \u001b[0;36m__init__\u001b[1;34m(self, collection, filter, projection, skip, limit, no_cursor_timeout, cursor_type, sort, allow_partial_results, oplog_replay, modifiers, batch_size, manipulate, collation, hint, max_scan, max_time_ms, max, min, return_key, show_record_id, snapshot, comment, session, allow_disk_use)\u001b[0m\n\u001b[0;32m    142\u001b[0m             \u001b[0mspec\u001b[0m \u001b[1;33m=\u001b[0m \u001b[1;33m{\u001b[0m\u001b[1;33m}\u001b[0m\u001b[1;33m\u001b[0m\u001b[1;33m\u001b[0m\u001b[0m\n\u001b[0;32m    143\u001b[0m \u001b[1;33m\u001b[0m\u001b[0m\n\u001b[1;32m--> 144\u001b[1;33m         \u001b[0mvalidate_is_mapping\u001b[0m\u001b[1;33m(\u001b[0m\u001b[1;34m\"filter\"\u001b[0m\u001b[1;33m,\u001b[0m \u001b[0mspec\u001b[0m\u001b[1;33m)\u001b[0m\u001b[1;33m\u001b[0m\u001b[1;33m\u001b[0m\u001b[0m\n\u001b[0m\u001b[0;32m    145\u001b[0m         \u001b[1;32mif\u001b[0m \u001b[1;32mnot\u001b[0m \u001b[0misinstance\u001b[0m\u001b[1;33m(\u001b[0m\u001b[0mskip\u001b[0m\u001b[1;33m,\u001b[0m \u001b[0mint\u001b[0m\u001b[1;33m)\u001b[0m\u001b[1;33m:\u001b[0m\u001b[1;33m\u001b[0m\u001b[1;33m\u001b[0m\u001b[0m\n\u001b[0;32m    146\u001b[0m             \u001b[1;32mraise\u001b[0m \u001b[0mTypeError\u001b[0m\u001b[1;33m(\u001b[0m\u001b[1;34m\"skip must be an instance of int\"\u001b[0m\u001b[1;33m)\u001b[0m\u001b[1;33m\u001b[0m\u001b[1;33m\u001b[0m\u001b[0m\n",
      "\u001b[1;32m~\\Anaconda3\\envs\\NoSQL\\lib\\site-packages\\pymongo\\common.py\u001b[0m in \u001b[0;36mvalidate_is_mapping\u001b[1;34m(option, value)\u001b[0m\n\u001b[0;32m    494\u001b[0m         raise TypeError(\"%s must be an instance of dict, bson.son.SON, or \"\n\u001b[0;32m    495\u001b[0m                         \u001b[1;34m\"any other type that inherits from \"\u001b[0m\u001b[1;33m\u001b[0m\u001b[1;33m\u001b[0m\u001b[0m\n\u001b[1;32m--> 496\u001b[1;33m                         \"collections.Mapping\" % (option,))\n\u001b[0m\u001b[0;32m    497\u001b[0m \u001b[1;33m\u001b[0m\u001b[0m\n\u001b[0;32m    498\u001b[0m \u001b[1;33m\u001b[0m\u001b[0m\n",
      "\u001b[1;31mTypeError\u001b[0m: filter must be an instance of dict, bson.son.SON, or any other type that inherits from collections.Mapping"
     ]
    }
   ],
   "source": [
    "pp(db.transactions.find({\"Transaction.price\"})[0])"
   ]
  },
  {
   "cell_type": "code",
   "execution_count": null,
   "metadata": {},
   "outputs": [],
   "source": []
  }
 ]
}