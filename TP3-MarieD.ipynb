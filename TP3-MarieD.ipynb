{
 "metadata": {
  "language_info": {
   "codemirror_mode": {
    "name": "ipython",
    "version": 3
   },
   "file_extension": ".py",
   "mimetype": "text/x-python",
   "name": "python",
   "nbconvert_exporter": "python",
   "pygments_lexer": "ipython3",
   "version": "2.7.16-final"
  },
  "orig_nbformat": 2,
  "kernelspec": {
   "name": "python3",
   "display_name": "Python 2.7.16 64-bit",
   "metadata": {
    "interpreter": {
     "hash": "545e036c4b32438aced1f6b3c8d38ca151d9c36189e05839cb0aa568fda70ddd"
    }
   }
  }
 },
 "nbformat": 4,
 "nbformat_minor": 2,
 "cells": [
  {
   "cell_type": "code",
   "execution_count": 1,
   "metadata": {},
   "outputs": [],
   "source": [
    "import pymongo\n",
    "from pymongo import MongoClient"
   ]
  },
  {
   "cell_type": "code",
   "execution_count": 38,
   "metadata": {},
   "outputs": [
    {
     "output_type": "stream",
     "name": "stdout",
     "text": [
      "connexion success\n"
     ]
    }
   ],
   "source": [
    "client = MongoClient('mongodb://localhost:27017/')\n",
    "db = client.db_agg\n",
    "restaurants = db.restaurants\n",
    "transactions = db.transactions\n",
    "\n",
    "print('connexion success')"
   ]
  },
  {
   "cell_type": "code",
   "execution_count": null,
   "metadata": {},
   "outputs": [],
   "source": [
    "########### Exercice  Aggréger des restaurants\n",
    "\n",
    "# Q : Créer 1DB restaurant, ajouter 1 collection \"restaurants\", la remplir avec le fichier restaurants.json.\n",
    "# Rq: Préciser, lors de l'injection du fichier json, dans la commande \"mongoimport\" la possibilité de supprimer la collection si elle existe (pour qu'elle soit recréer de nouveau et y injecter de la data fraîche).\n",
    "# Indice : 25357 restaurant en tout\n",
    "\n",
    "# mongoimport -d db_agg -c restaurants --drop --file \"/Users/eleacarton/Documents/NoSQL/restaurants.json\""
   ]
  },
  {
   "cell_type": "code",
   "execution_count": 49,
   "metadata": {
    "tags": []
   },
   "outputs": [
    {
     "output_type": "stream",
     "name": "stdout",
     "text": [
      "{u'_id': u'Bronx', u'nb_restaurant': 2338}\n{u'_id': u'Brooklyn', u'nb_restaurant': 6085}\n{u'_id': u'Manhattan', u'nb_restaurant': 10258}\n{u'_id': u'Missing', u'nb_restaurant': 51}\n{u'_id': u'Queens', u'nb_restaurant': 5656}\n{u'_id': u'Staten Island', u'nb_restaurant': 969}\n"
     ]
    }
   ],
   "source": [
    "# Q : La répartition des restaurants par quartier ?\n",
    "# Indice : quartier => key 'borough'\n",
    "\n",
    "resto_borough = { \"$group\":{\"_id\": \"$borough\",\"nb_restaurant\":{\"$sum\" : 1}}}\n",
    "tri = {\"$sort\" : {\"_id\":1}}\n",
    "\n",
    "for restaurant in restaurants.aggregate([resto_borough, tri]):\n",
    "    print(restaurant)"
   ]
  },
  {
   "cell_type": "code",
   "execution_count": 54,
   "metadata": {
    "tags": []
   },
   "outputs": [
    {
     "output_type": "stream",
     "name": "stdout",
     "text": [
      "{u'_id': u'Bronx', u'nb_restaurant': 27}\n{u'_id': u'Brooklyn', u'nb_restaurant': 56}\n{u'_id': u'Manhattan', u'nb_restaurant': 83}\n{u'_id': u'Queens', u'nb_restaurant': 47}\n{u'_id': u'Staten Island', u'nb_restaurant': 7}\n"
     ]
    }
   ],
   "source": [
    "# Q : La répartition des restaurants dont la dernière inspection a donné un grade \"C\" par quartier ?\n",
    "# Indice : la dernière inspection : la plus récente, donc la première de la liste !\n",
    "# key : \"grade\"\n",
    "\n",
    "match_grade_C = { \"$match\" : {\"grades.0.grade\":\"C\"}}\n",
    "proj = {\"$project\" : {\"name\":1, \"borough\":1,\"_id\":0}}\n",
    "tri = {\"$sort\" : {\"_id\":1}}\n",
    "\n",
    "for grad in restaurants.aggregate([match_grade_C,proj,repart_resto_borough, tri]):\n",
    "    print(grad)"
   ]
  },
  {
   "cell_type": "code",
   "execution_count": 55,
   "metadata": {},
   "outputs": [
    {
     "output_type": "stream",
     "name": "stdout",
     "text": [
      "{u'_id': u'Queens', u'moyenne': 11.634865110930088}\n{u'_id': u'Brooklyn', u'moyenne': 11.447723132969035}\n{u'_id': u'Manhattan', u'moyenne': 11.41823125728344}\n{u'_id': u'Staten Island', u'moyenne': 11.370957711442786}\n{u'_id': u'Bronx', u'moyenne': 11.036186099942562}\n{u'_id': u'Missing', u'moyenne': 9.632911392405063}\n"
     ]
    }
   ],
   "source": [
    "# Q : Calculer le score moyen des resto par quartier et trier par score décroissant ?\n",
    "# Indice : utiliser l'opérateur unwid\n",
    "\n",
    "eclater_liste = {\"$unwind\" : \"$grades\"}\n",
    "mean_quartier = {\"$group\" : {\"_id\":\"$borough\",\"moyenne\":{\"$avg\":\"$grades.score\"}}}\n",
    "tri = {\"$sort\": {\"moyenne\":-1}}\n",
    "\n",
    "for grad in restaurants.aggregate([eclater_liste, mean_quartier, tri]):\n",
    "    print(grad)"
   ]
  },
  {
   "cell_type": "code",
   "execution_count": null,
   "metadata": {},
   "outputs": [],
   "source": [
    "########### Exercice  Aggréger des transactions \n",
    "\n",
    "# Q : Créer une collection \"transactions\" à partir du fichier transactions.json et répondre aux questions suivantes :\n",
    "\n",
    "# mongoimport -d db_agg -c transactions --drop --file \"/Users/eleacarton/Documents/NoSQL/transactions.json\"  --jsonArray"
   ]
  },
  {
   "cell_type": "code",
   "execution_count": 56,
   "metadata": {},
   "outputs": [
    {
     "output_type": "stream",
     "name": "stdout",
     "text": [
      "{u'_id': u'total', u'Total': 1200}\n"
     ]
    }
   ],
   "source": [
    "# Q-1. Calculer le montant total des paiements ?\n",
    "# Indice : key : Payment.Total\n",
    "\n",
    "transactions = db.transactions\n",
    "succ = { \"$match\" : {\"Payment.Success\":True}}\n",
    "som = {\"$group\" : {\"_id\":\"total\", \"Total\":{\"$sum\":\"$Payment.Total\"}}}\n",
    "for pay in transactions.aggregate([succ,som]):\n",
    "    print(pay)"
   ]
  },
  {
   "cell_type": "code",
   "execution_count": 76,
   "metadata": {},
   "outputs": [
    {
     "output_type": "stream",
     "name": "stdout",
     "text": [
      "{u'_id': ObjectId('60101b973446d1767d11cb0b'), u'Id': 102, u'Payment': {u'Total': 400}}\n{u'_id': ObjectId('60101b973446d1767d11cb0c'), u'Id': 101, u'Payment': {u'Total': 400}}\n{u'_id': ObjectId('60101b973446d1767d11cb0d'), u'Id': 100, u'Payment': {u'Total': 400}}\n"
     ]
    }
   ],
   "source": [
    "# Q-2. Calculer le montant total par paiment ?\n",
    "\n",
    "succ = { \"$match\" : {\"Payment.Success\":True}}\n",
    "som = {\"$project\" : {\"_id\":1, \"Id\":1, \"Payment.Total\": 1}}\n",
    "for pay in transactions.aggregate([succ,som]):\n",
    "    print(pay)"
   ]
  },
  {
   "cell_type": "code",
   "execution_count": 58,
   "metadata": {},
   "outputs": [
    {
     "output_type": "stream",
     "name": "stdout",
     "text": [
      "{u'_id': u'Credit-Card', u'Total': 800}\n{u'_id': u'Debit-Card', u'Total': 400}\n"
     ]
    }
   ],
   "source": [
    "#Q-3. Calculate total payments (Payment.Total) for each payment type (Payment.Type) ?\n",
    "\n",
    "succ = { \"$match\" : {\"Payment.Success\":True}}\n",
    "som = {\"$group\" : {\"_id\":\"$Payment.Type\", \"Total\":{\"$sum\":\"$Payment.Total\"}}}\n",
    "for pay in transactions.aggregate([succ,som]):\n",
    "    print(pay)"
   ]
  },
  {
   "cell_type": "code",
   "execution_count": 61,
   "metadata": {},
   "outputs": [
    {
     "output_type": "stream",
     "name": "stdout",
     "text": [
      "{u'Note': u'Payment is Null', u'Transaction': [{u'ItemId': u'a100', u'price': 200}, {u'ItemId': u'a110', u'price': 210}], u'Name': u'Dylan', u'Payment': None, u'Subscriber': True, u'TransactionId': u'tran4', u'_id': ObjectId('60101b973446d1767d11cb0a'), u'Id': 103}\n"
     ]
    }
   ],
   "source": [
    "# Q-4. Trouver l'Id le plus élevé.\n",
    "\n",
    "sort = {\"$sort\":{\"Id\": -1}}\n",
    "limit = {\"$limit\": 1}\n",
    "for idele in transactions.aggregate([sort,limit]):\n",
    "    print(idele)"
   ]
  },
  {
   "cell_type": "code",
   "execution_count": 81,
   "metadata": {},
   "outputs": [
    {
     "output_type": "stream",
     "name": "stdout",
     "text": [
      "{u'Max price': [200, 210], u'_id': 1}\n"
     ]
    }
   ],
   "source": [
    "# Q-5. Find the max price (Transaction.price) ?\n",
    "\n",
    "transactions = db.transactions\n",
    "succ = { \"$match\" : {\"Payment.Success\":True}}\n",
    "som = {\"$group\" : {\"_id\":1, \"Max price\":{\"$max\":\"$Transaction.price\"}}}\n",
    "for pay in transactions.aggregate([succ,som]):\n",
    "    print(pay)"
   ]
  },
  {
   "cell_type": "code",
   "execution_count": null,
   "metadata": {},
   "outputs": [],
   "source": [
    "########### distinct\t\n",
    "# Q : Age unique => distinct ?\n",
    "\n",
    "# Dans le shell mongo:\n",
    "# db.people.distinct(\"age\")\n",
    "# S : [ 20, 35, 60 ]\n",
    "\n",
    "# Q : Peut-on faire un distinct sur plusieurs key ?\n",
    "\n",
    "# Dans le shell mongo:\n",
    "# db.people.distinct(\"name\", \"age\")\n",
    "# R : Ce n'est pas possible de faire un distinct sur plusieurs key => Il faut passer par map reduce !"
   ]
  }
 ]
}